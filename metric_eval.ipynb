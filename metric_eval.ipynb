{
 "cells": [
  {
   "cell_type": "code",
   "execution_count": 1,
   "metadata": {},
   "outputs": [],
   "source": [
    "import numpy as np\n",
    "import matplotlib.pyplot as plt\n",
    "import pandas as pd\n",
    "\n",
    "from sklearn.metrics import mean_squared_error, roc_auc_score, recall_score, balanced_accuracy_score"
   ]
  },
  {
   "cell_type": "code",
   "execution_count": 2,
   "metadata": {},
   "outputs": [],
   "source": [
    "table = pd.read_csv(\"table.csv\")\n",
    "table_hinv = table[(table.inv >= 0.4) | (table.y == 0)]"
   ]
  },
  {
   "cell_type": "code",
   "execution_count": 3,
   "metadata": {},
   "outputs": [],
   "source": [
    "hinv = pd.read_csv('high_involvement_table.csv')"
   ]
  },
  {
   "cell_type": "code",
   "execution_count": 4,
   "metadata": {},
   "outputs": [
    {
     "data": {
      "text/plain": [
       "0.5161310398048344"
      ]
     },
     "execution_count": 4,
     "metadata": {},
     "output_type": "execute_result"
    }
   ],
   "source": [
    "roc_auc_score(table.y, table.y_pred)"
   ]
  },
  {
   "cell_type": "code",
   "execution_count": 5,
   "metadata": {},
   "outputs": [
    {
     "data": {
      "text/plain": [
       "0.5573904512753434"
      ]
     },
     "execution_count": 5,
     "metadata": {},
     "output_type": "execute_result"
    }
   ],
   "source": [
    "roc_auc_score(table_hinv.y, table_hinv.y_pred)"
   ]
  },
  {
   "cell_type": "code",
   "execution_count": 6,
   "metadata": {},
   "outputs": [
    {
     "data": {
      "text/html": [
       "<div>\n",
       "<style scoped>\n",
       "    .dataframe tbody tr th:only-of-type {\n",
       "        vertical-align: middle;\n",
       "    }\n",
       "\n",
       "    .dataframe tbody tr th {\n",
       "        vertical-align: top;\n",
       "    }\n",
       "\n",
       "    .dataframe thead th {\n",
       "        text-align: right;\n",
       "    }\n",
       "</style>\n",
       "<table border=\"1\" class=\"dataframe\">\n",
       "  <thead>\n",
       "    <tr style=\"text-align: right;\">\n",
       "      <th></th>\n",
       "      <th>cid</th>\n",
       "      <th>pid</th>\n",
       "      <th>y</th>\n",
       "      <th>y_pred</th>\n",
       "    </tr>\n",
       "    <tr>\n",
       "      <th>core_id</th>\n",
       "      <th></th>\n",
       "      <th></th>\n",
       "      <th></th>\n",
       "      <th></th>\n",
       "    </tr>\n",
       "  </thead>\n",
       "  <tbody>\n",
       "    <tr>\n",
       "      <th>176.0.000.0</th>\n",
       "      <td>0</td>\n",
       "      <td>176</td>\n",
       "      <td>0</td>\n",
       "      <td>0.142070</td>\n",
       "    </tr>\n",
       "    <tr>\n",
       "      <th>176.0.001.0</th>\n",
       "      <td>1</td>\n",
       "      <td>176</td>\n",
       "      <td>0</td>\n",
       "      <td>0.268623</td>\n",
       "    </tr>\n",
       "    <tr>\n",
       "      <th>176.0.002.0</th>\n",
       "      <td>2</td>\n",
       "      <td>176</td>\n",
       "      <td>0</td>\n",
       "      <td>0.124954</td>\n",
       "    </tr>\n",
       "    <tr>\n",
       "      <th>176.0.003.0</th>\n",
       "      <td>3</td>\n",
       "      <td>176</td>\n",
       "      <td>0</td>\n",
       "      <td>0.047604</td>\n",
       "    </tr>\n",
       "    <tr>\n",
       "      <th>176.0.004.0</th>\n",
       "      <td>4</td>\n",
       "      <td>176</td>\n",
       "      <td>0</td>\n",
       "      <td>0.094993</td>\n",
       "    </tr>\n",
       "    <tr>\n",
       "      <th>...</th>\n",
       "      <td>...</td>\n",
       "      <td>...</td>\n",
       "      <td>...</td>\n",
       "      <td>...</td>\n",
       "    </tr>\n",
       "    <tr>\n",
       "      <th>93.0.004.0</th>\n",
       "      <td>4</td>\n",
       "      <td>93</td>\n",
       "      <td>1</td>\n",
       "      <td>0.104740</td>\n",
       "    </tr>\n",
       "    <tr>\n",
       "      <th>93.0.005.0</th>\n",
       "      <td>5</td>\n",
       "      <td>93</td>\n",
       "      <td>1</td>\n",
       "      <td>0.339288</td>\n",
       "    </tr>\n",
       "    <tr>\n",
       "      <th>93.0.006.0</th>\n",
       "      <td>6</td>\n",
       "      <td>93</td>\n",
       "      <td>0</td>\n",
       "      <td>0.048669</td>\n",
       "    </tr>\n",
       "    <tr>\n",
       "      <th>93.0.007.0</th>\n",
       "      <td>7</td>\n",
       "      <td>93</td>\n",
       "      <td>0</td>\n",
       "      <td>0.276466</td>\n",
       "    </tr>\n",
       "    <tr>\n",
       "      <th>93.0.008.0</th>\n",
       "      <td>8</td>\n",
       "      <td>93</td>\n",
       "      <td>0</td>\n",
       "      <td>0.135978</td>\n",
       "    </tr>\n",
       "  </tbody>\n",
       "</table>\n",
       "<p>81 rows × 4 columns</p>\n",
       "</div>"
      ],
      "text/plain": [
       "             cid  pid  y    y_pred\n",
       "core_id                           \n",
       "176.0.000.0    0  176  0  0.142070\n",
       "176.0.001.0    1  176  0  0.268623\n",
       "176.0.002.0    2  176  0  0.124954\n",
       "176.0.003.0    3  176  0  0.047604\n",
       "176.0.004.0    4  176  0  0.094993\n",
       "...          ...  ... ..       ...\n",
       "93.0.004.0     4   93  1  0.104740\n",
       "93.0.005.0     5   93  1  0.339288\n",
       "93.0.006.0     6   93  0  0.048669\n",
       "93.0.007.0     7   93  0  0.276466\n",
       "93.0.008.0     8   93  0  0.135978\n",
       "\n",
       "[81 rows x 4 columns]"
      ]
     },
     "execution_count": 6,
     "metadata": {},
     "output_type": "execute_result"
    }
   ],
   "source": [
    "table.groupby(\"core_id\")[[\"cid\", \"pid\", \"y\", \"y_pred\"]].first()"
   ]
  },
  {
   "cell_type": "code",
   "execution_count": 7,
   "metadata": {},
   "outputs": [
    {
     "data": {
      "text/plain": [
       "0.1992358985933748"
      ]
     },
     "execution_count": 7,
     "metadata": {},
     "output_type": "execute_result"
    }
   ],
   "source": [
    "table.groupby(\"core_id\")[\"y_pred\"].first().mean()"
   ]
  },
  {
   "cell_type": "code",
   "execution_count": 8,
   "metadata": {},
   "outputs": [],
   "source": [
    "y_pred_core = table.groupby(\"core_id\")[\"y_pred\"].mean()\n",
    "y_true_core = table.groupby(\"core_id\")[\"y\"].first()\n",
    "score = roc_auc_score(y_true_core, y_pred_core)"
   ]
  },
  {
   "cell_type": "code",
   "execution_count": 9,
   "metadata": {},
   "outputs": [
    {
     "data": {
      "text/plain": [
       "0.7014925373134329"
      ]
     },
     "execution_count": 9,
     "metadata": {},
     "output_type": "execute_result"
    }
   ],
   "source": [
    "y_pred_core = hinv.groupby(\"core_id\")[\"y_pred\"].mean()\n",
    "y_true_core = hinv.groupby(\"core_id\")[\"y\"].first()\n",
    "score = roc_auc_score(y_true_core, y_pred_core)\n",
    "score"
   ]
  },
  {
   "cell_type": "code",
   "execution_count": 13,
   "metadata": {},
   "outputs": [
    {
     "name": "stdout",
     "output_type": "stream",
     "text": [
      "Sensitivity: 0.00\n",
      "Specificity: 1.00\n",
      "Balanced accuracy: 0.50\n"
     ]
    }
   ],
   "source": [
    "sensitivity = recall_score(y_true_core, y_pred_core >= 0.5)\n",
    "specificity = recall_score(1 - y_true_core, y_pred_core < 0.5)\n",
    "\n",
    "balanced_accuracy = balanced_accuracy_score(y_true_core, y_pred_core >= 0.5)\n",
    "\n",
    "print(f\"Sensitivity: {sensitivity:.2f}\")\n",
    "print(f\"Specificity: {specificity:.2f}\")\n",
    "print(f\"Balanced accuracy: {balanced_accuracy:.2f}\")"
   ]
  },
  {
   "cell_type": "code",
   "execution_count": null,
   "metadata": {},
   "outputs": [],
   "source": []
  }
 ],
 "metadata": {
  "kernelspec": {
   "display_name": "medai",
   "language": "python",
   "name": "python3"
  },
  "language_info": {
   "codemirror_mode": {
    "name": "ipython",
    "version": 3
   },
   "file_extension": ".py",
   "mimetype": "text/x-python",
   "name": "python",
   "nbconvert_exporter": "python",
   "pygments_lexer": "ipython3",
   "version": "3.11.8"
  }
 },
 "nbformat": 4,
 "nbformat_minor": 2
}
